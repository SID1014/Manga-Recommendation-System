{
 "cells": [
  {
   "cell_type": "code",
   "execution_count": 1,
   "id": "7826c998",
   "metadata": {},
   "outputs": [],
   "source": [
    "import pandas as pd\n",
    "from sklearn.feature_extraction.text import TfidfVectorizer\n",
    "from sklearn.metrics.pairwise import cosine_similarity\n",
    "import pickle\n",
    "import numpy as np"
   ]
  },
  {
   "cell_type": "code",
   "execution_count": 2,
   "id": "cc040e07",
   "metadata": {},
   "outputs": [
    {
     "name": "stderr",
     "output_type": "stream",
     "text": [
      "<>:1: SyntaxWarning: invalid escape sequence '\\D'\n",
      "<>:1: SyntaxWarning: invalid escape sequence '\\D'\n",
      "C:\\Users\\Siddh\\AppData\\Local\\Temp\\ipykernel_21208\\251128808.py:1: SyntaxWarning: invalid escape sequence '\\D'\n",
      "  df = pd.read_csv('..\\Data\\Processed\\processed_manga.csv')\n"
     ]
    }
   ],
   "source": [
    "df = pd.read_csv('..\\Data\\Processed\\processed_manga.csv')"
   ]
  },
  {
   "cell_type": "code",
   "execution_count": null,
   "id": "48e0e536",
   "metadata": {},
   "outputs": [],
   "source": []
  },
  {
   "cell_type": "code",
   "execution_count": 21,
   "id": "e58bc7bf",
   "metadata": {},
   "outputs": [
    {
     "name": "stdout",
     "output_type": "stream",
     "text": [
      "<class 'pandas.core.frame.DataFrame'>\n",
      "RangeIndex: 968 entries, 0 to 967\n",
      "Data columns (total 6 columns):\n",
      " #   Column     Non-Null Count  Dtype  \n",
      "---  ------     --------------  -----  \n",
      " 0   id         968 non-null    int64  \n",
      " 1   title      968 non-null    object \n",
      " 2   synopsis   968 non-null    object \n",
      " 3   genres     968 non-null    object \n",
      " 4   score      968 non-null    float64\n",
      " 5   image_url  968 non-null    object \n",
      "dtypes: float64(1), int64(1), object(4)\n",
      "memory usage: 45.5+ KB\n"
     ]
    }
   ],
   "source": [
    "df.info()"
   ]
  },
  {
   "cell_type": "code",
   "execution_count": 58,
   "id": "deff909b",
   "metadata": {},
   "outputs": [
    {
     "data": {
      "text/html": [
       "<div>\n",
       "<style scoped>\n",
       "    .dataframe tbody tr th:only-of-type {\n",
       "        vertical-align: middle;\n",
       "    }\n",
       "\n",
       "    .dataframe tbody tr th {\n",
       "        vertical-align: top;\n",
       "    }\n",
       "\n",
       "    .dataframe thead th {\n",
       "        text-align: right;\n",
       "    }\n",
       "</style>\n",
       "<table border=\"1\" class=\"dataframe\">\n",
       "  <thead>\n",
       "    <tr style=\"text-align: right;\">\n",
       "      <th></th>\n",
       "      <th>id</th>\n",
       "      <th>title</th>\n",
       "      <th>synopsis</th>\n",
       "      <th>genres</th>\n",
       "      <th>score</th>\n",
       "      <th>image_url</th>\n",
       "      <th>content</th>\n",
       "    </tr>\n",
       "  </thead>\n",
       "  <tbody>\n",
       "    <tr>\n",
       "      <th>2</th>\n",
       "      <td>3</td>\n",
       "      <td>20th Century Boys</td>\n",
       "      <td>As the 20th century approaches its end, people...</td>\n",
       "      <td>Award_Winning Drama Mystery Sci-Fi</td>\n",
       "      <td>8.93</td>\n",
       "      <td>https://cdn.myanimelist.net/images/manga/5/260...</td>\n",
       "      <td>As the 20th century approaches its end, people...</td>\n",
       "    </tr>\n",
       "  </tbody>\n",
       "</table>\n",
       "</div>"
      ],
      "text/plain": [
       "   id              title                                           synopsis  \\\n",
       "2   3  20th Century Boys  As the 20th century approaches its end, people...   \n",
       "\n",
       "                               genres  score  \\\n",
       "2  Award_Winning Drama Mystery Sci-Fi   8.93   \n",
       "\n",
       "                                           image_url  \\\n",
       "2  https://cdn.myanimelist.net/images/manga/5/260...   \n",
       "\n",
       "                                             content  \n",
       "2  As the 20th century approaches its end, people...  "
      ]
     },
     "execution_count": 58,
     "metadata": {},
     "output_type": "execute_result"
    }
   ],
   "source": [
    "df[df['id']==3]"
   ]
  },
  {
   "cell_type": "code",
   "execution_count": 22,
   "id": "3899f211",
   "metadata": {},
   "outputs": [],
   "source": [
    "df[\"content\"] = (df[\"synopsis\"]+ \" \")*3 + \" \" + (df[\"genres\"]+ \" \")*2"
   ]
  },
  {
   "cell_type": "code",
   "execution_count": 23,
   "id": "8bc5d884",
   "metadata": {},
   "outputs": [
    {
     "name": "stdout",
     "output_type": "stream",
     "text": [
      "(968, 11929)\n"
     ]
    }
   ],
   "source": [
    "tfidf = TfidfVectorizer(stop_words='english')\n",
    "tfidf_matrix = tfidf.fit_transform(df['content'])\n",
    "print(tfidf_matrix.shape)\n"
   ]
  },
  {
   "cell_type": "code",
   "execution_count": 24,
   "id": "8f6b633f",
   "metadata": {},
   "outputs": [
    {
     "name": "stdout",
     "output_type": "stream",
     "text": [
      "Cosine similarity matrix shape: (968, 968)\n"
     ]
    }
   ],
   "source": [
    "cosine_sim = cosine_similarity(tfidf_matrix, tfidf_matrix)\n",
    "print(\"Cosine similarity matrix shape:\", cosine_sim.shape)\n"
   ]
  },
  {
   "cell_type": "code",
   "execution_count": 69,
   "id": "e6994eea",
   "metadata": {},
   "outputs": [],
   "source": [
    "def get_cbf_recommendations(id, top_n=5):\n",
    "    # Ensure title exists\n",
    "    if id not in df['id'].values:\n",
    "        raise ValueError(f\"'{id}' not found in dataset.\")\n",
    "    \n",
    "    # Get index of given title\n",
    "    idx = df[df['id'] == id].index[0]\n",
    "    \n",
    "    # Pair index with similarity scores\n",
    "    sim_scores = list(enumerate(cosine_sim[idx]))\n",
    "    \n",
    "    # Sort by similarity score (descending), skip the first one (itself)\n",
    "    sim_scores = sorted(sim_scores, key=lambda x: x[1], reverse=True)[1:top_n+1]\n",
    "    \n",
    "    # Get the indices of recommended manga\n",
    "    manga_indices = [i[0] for i in sim_scores]\n",
    "    \n",
    "    # Return a DataFrame of recommendations\n",
    "    return df.iloc[manga_indices][['id','title', 'genres','synopsis', 'score','image_url']] if 'score' in df.columns else df.iloc[manga_indices][['title', 'genres']]\n"
   ]
  },
  {
   "cell_type": "code",
   "execution_count": 70,
   "id": "809c7f82",
   "metadata": {},
   "outputs": [
    {
     "data": {
      "text/html": [
       "<div>\n",
       "<style scoped>\n",
       "    .dataframe tbody tr th:only-of-type {\n",
       "        vertical-align: middle;\n",
       "    }\n",
       "\n",
       "    .dataframe tbody tr th {\n",
       "        vertical-align: top;\n",
       "    }\n",
       "\n",
       "    .dataframe thead th {\n",
       "        text-align: right;\n",
       "    }\n",
       "</style>\n",
       "<table border=\"1\" class=\"dataframe\">\n",
       "  <thead>\n",
       "    <tr style=\"text-align: right;\">\n",
       "      <th></th>\n",
       "      <th>id</th>\n",
       "      <th>title</th>\n",
       "      <th>genres</th>\n",
       "      <th>synopsis</th>\n",
       "      <th>score</th>\n",
       "      <th>image_url</th>\n",
       "    </tr>\n",
       "  </thead>\n",
       "  <tbody>\n",
       "    <tr>\n",
       "      <th>673</th>\n",
       "      <td>728</td>\n",
       "      <td>Tetsuwan Atom</td>\n",
       "      <td>Adventure Sci-Fi</td>\n",
       "      <td>In the distant year 2003, Japan is a technolog...</td>\n",
       "      <td>7.30</td>\n",
       "      <td>https://cdn.myanimelist.net/images/manga/2/186...</td>\n",
       "    </tr>\n",
       "    <tr>\n",
       "      <th>961</th>\n",
       "      <td>1047</td>\n",
       "      <td>Saint Seiya: The Lost Canvas - Meiou Shinwa</td>\n",
       "      <td>Action Adventure</td>\n",
       "      <td>This manga tells the story of the previous Hol...</td>\n",
       "      <td>8.27</td>\n",
       "      <td>https://cdn.myanimelist.net/images/manga/5/163...</td>\n",
       "    </tr>\n",
       "    <tr>\n",
       "      <th>524</th>\n",
       "      <td>549</td>\n",
       "      <td>The Queen's Knight</td>\n",
       "      <td>Adventure Fantasy Romance</td>\n",
       "      <td>When Yuna Lee's mother moves to Germany to pur...</td>\n",
       "      <td>7.38</td>\n",
       "      <td>https://cdn.myanimelist.net/images/manga/5/263...</td>\n",
       "    </tr>\n",
       "    <tr>\n",
       "      <th>865</th>\n",
       "      <td>941</td>\n",
       "      <td>Chaosic Rune</td>\n",
       "      <td>Action Drama Supernatural Ecchi</td>\n",
       "      <td>After being the only survivor in a plane crash...</td>\n",
       "      <td>6.71</td>\n",
       "      <td>https://cdn.myanimelist.net/images/manga/3/183...</td>\n",
       "    </tr>\n",
       "    <tr>\n",
       "      <th>511</th>\n",
       "      <td>536</td>\n",
       "      <td>Gensou Suikoden III: Unmei no Keishousha</td>\n",
       "      <td>Action Adventure Fantasy</td>\n",
       "      <td>A long war between the Grasslands and Zexen ha...</td>\n",
       "      <td>7.66</td>\n",
       "      <td>https://cdn.myanimelist.net/images/manga/2/180...</td>\n",
       "    </tr>\n",
       "  </tbody>\n",
       "</table>\n",
       "</div>"
      ],
      "text/plain": [
       "       id                                        title  \\\n",
       "673   728                                Tetsuwan Atom   \n",
       "961  1047  Saint Seiya: The Lost Canvas - Meiou Shinwa   \n",
       "524   549                           The Queen's Knight   \n",
       "865   941                                 Chaosic Rune   \n",
       "511   536     Gensou Suikoden III: Unmei no Keishousha   \n",
       "\n",
       "                              genres  \\\n",
       "673                 Adventure Sci-Fi   \n",
       "961                 Action Adventure   \n",
       "524        Adventure Fantasy Romance   \n",
       "865  Action Drama Supernatural Ecchi   \n",
       "511         Action Adventure Fantasy   \n",
       "\n",
       "                                              synopsis  score  \\\n",
       "673  In the distant year 2003, Japan is a technolog...   7.30   \n",
       "961  This manga tells the story of the previous Hol...   8.27   \n",
       "524  When Yuna Lee's mother moves to Germany to pur...   7.38   \n",
       "865  After being the only survivor in a plane crash...   6.71   \n",
       "511  A long war between the Grasslands and Zexen ha...   7.66   \n",
       "\n",
       "                                             image_url  \n",
       "673  https://cdn.myanimelist.net/images/manga/2/186...  \n",
       "961  https://cdn.myanimelist.net/images/manga/5/163...  \n",
       "524  https://cdn.myanimelist.net/images/manga/5/263...  \n",
       "865  https://cdn.myanimelist.net/images/manga/3/183...  \n",
       "511  https://cdn.myanimelist.net/images/manga/2/180...  "
      ]
     },
     "execution_count": 70,
     "metadata": {},
     "output_type": "execute_result"
    }
   ],
   "source": [
    "get_cbf_recommendations(1)"
   ]
  },
  {
   "cell_type": "code",
   "execution_count": 47,
   "id": "b4161360",
   "metadata": {},
   "outputs": [
    {
     "ename": "FileNotFoundError",
     "evalue": "[Errno 2] No such file or directory: '../model/tfidf_vectorizer.pkl'",
     "output_type": "error",
     "traceback": [
      "\u001b[31m---------------------------------------------------------------------------\u001b[39m",
      "\u001b[31mFileNotFoundError\u001b[39m                         Traceback (most recent call last)",
      "\u001b[36mCell\u001b[39m\u001b[36m \u001b[39m\u001b[32mIn[47]\u001b[39m\u001b[32m, line 2\u001b[39m\n\u001b[32m      1\u001b[39m \u001b[38;5;66;03m# Save\u001b[39;00m\n\u001b[32m----> \u001b[39m\u001b[32m2\u001b[39m \u001b[38;5;28;01mwith\u001b[39;00m \u001b[38;5;28;43mopen\u001b[39;49m\u001b[43m(\u001b[49m\u001b[33;43m\"\u001b[39;49m\u001b[33;43m../model/tfidf_vectorizer.pkl\u001b[39;49m\u001b[33;43m\"\u001b[39;49m\u001b[43m,\u001b[49m\u001b[43m \u001b[49m\u001b[33;43m\"\u001b[39;49m\u001b[33;43mwb\u001b[39;49m\u001b[33;43m\"\u001b[39;49m\u001b[43m)\u001b[49m \u001b[38;5;28;01mas\u001b[39;00m f:\n\u001b[32m      3\u001b[39m     pickle.dump(tfidf, f)\n\u001b[32m      5\u001b[39m \u001b[38;5;28;01mwith\u001b[39;00m \u001b[38;5;28mopen\u001b[39m(\u001b[33m\"\u001b[39m\u001b[33m../model/cosine_similarity.pkl\u001b[39m\u001b[33m\"\u001b[39m, \u001b[33m\"\u001b[39m\u001b[33mwb\u001b[39m\u001b[33m\"\u001b[39m) \u001b[38;5;28;01mas\u001b[39;00m f:\n",
      "\u001b[36mFile \u001b[39m\u001b[32mc:\\Users\\Siddh\\anaconda3\\envs\\Manga\\Lib\\site-packages\\IPython\\core\\interactiveshell.py:343\u001b[39m, in \u001b[36m_modified_open\u001b[39m\u001b[34m(file, *args, **kwargs)\u001b[39m\n\u001b[32m    336\u001b[39m \u001b[38;5;28;01mif\u001b[39;00m file \u001b[38;5;129;01min\u001b[39;00m {\u001b[32m0\u001b[39m, \u001b[32m1\u001b[39m, \u001b[32m2\u001b[39m}:\n\u001b[32m    337\u001b[39m     \u001b[38;5;28;01mraise\u001b[39;00m \u001b[38;5;167;01mValueError\u001b[39;00m(\n\u001b[32m    338\u001b[39m         \u001b[33mf\u001b[39m\u001b[33m\"\u001b[39m\u001b[33mIPython won\u001b[39m\u001b[33m'\u001b[39m\u001b[33mt let you open fd=\u001b[39m\u001b[38;5;132;01m{\u001b[39;00mfile\u001b[38;5;132;01m}\u001b[39;00m\u001b[33m by default \u001b[39m\u001b[33m\"\u001b[39m\n\u001b[32m    339\u001b[39m         \u001b[33m\"\u001b[39m\u001b[33mas it is likely to crash IPython. If you know what you are doing, \u001b[39m\u001b[33m\"\u001b[39m\n\u001b[32m    340\u001b[39m         \u001b[33m\"\u001b[39m\u001b[33myou can use builtins\u001b[39m\u001b[33m'\u001b[39m\u001b[33m open.\u001b[39m\u001b[33m\"\u001b[39m\n\u001b[32m    341\u001b[39m     )\n\u001b[32m--> \u001b[39m\u001b[32m343\u001b[39m \u001b[38;5;28;01mreturn\u001b[39;00m \u001b[43mio_open\u001b[49m\u001b[43m(\u001b[49m\u001b[43mfile\u001b[49m\u001b[43m,\u001b[49m\u001b[43m \u001b[49m\u001b[43m*\u001b[49m\u001b[43margs\u001b[49m\u001b[43m,\u001b[49m\u001b[43m \u001b[49m\u001b[43m*\u001b[49m\u001b[43m*\u001b[49m\u001b[43mkwargs\u001b[49m\u001b[43m)\u001b[49m\n",
      "\u001b[31mFileNotFoundError\u001b[39m: [Errno 2] No such file or directory: '../model/tfidf_vectorizer.pkl'"
     ]
    }
   ],
   "source": [
    "\n",
    "\n",
    "# Save\n",
    "with open(\"../model/tfidf_vectorizer.pkl\", \"wb\") as f:\n",
    "    pickle.dump(tfidf, f)\n",
    "\n",
    "with open(\"../model/cosine_similarity.pkl\", \"wb\") as f:\n",
    "    pickle.dump(cosine_sim, f)\n",
    "\n",
    "df.to_csv(\"../model/final_manga.csv\", index=False)\n"
   ]
  },
  {
   "cell_type": "code",
   "execution_count": 48,
   "id": "049a2005",
   "metadata": {},
   "outputs": [],
   "source": [
    "ratings_df = pd.DataFrame({\n",
    "    'user_id': [1, 1, 2, 2, 3],\n",
    "    'manga_id': [1, 2, 2, 3, 1],\n",
    "    'rating': [5, 4, 3, 4, 5]\n",
    "})\n",
    "\n"
   ]
  },
  {
   "cell_type": "code",
   "execution_count": 49,
   "id": "b7d4e1b2",
   "metadata": {},
   "outputs": [],
   "source": [
    "user_item_matrix = ratings_df.pivot_table(\n",
    "    index='user_id',\n",
    "    columns='manga_id',\n",
    "    values='rating'\n",
    ").fillna(0)\n"
   ]
  },
  {
   "cell_type": "code",
   "execution_count": 50,
   "id": "c3a8b98e",
   "metadata": {},
   "outputs": [
    {
     "name": "stdout",
     "output_type": "stream",
     "text": [
      "manga_id    1    2    3\n",
      "user_id                \n",
      "1         5.0  4.0  0.0\n",
      "2         0.0  3.0  4.0\n",
      "3         5.0  0.0  0.0\n"
     ]
    }
   ],
   "source": [
    "print(user_item_matrix)"
   ]
  },
  {
   "cell_type": "code",
   "execution_count": 51,
   "id": "03d6ae08",
   "metadata": {},
   "outputs": [],
   "source": [
    "import numpy as np\n",
    "from scipy.sparse.linalg import svds\n",
    "\n",
    "matrix = user_item_matrix.values\n",
    "\n",
    "# Compute SVD\n",
    "U, sigma, Vt = svds(matrix, k=2)\n",
    "sigma = np.diag(sigma)\n",
    "\n",
    "# Predicted ratings\n",
    "predicted_ratings = np.dot(np.dot(U, sigma), Vt)\n",
    "pred_df = pd.DataFrame(predicted_ratings, columns=user_item_matrix.columns, index=user_item_matrix.index)\n"
   ]
  },
  {
   "cell_type": "code",
   "execution_count": 79,
   "id": "b6d3f076",
   "metadata": {},
   "outputs": [],
   "source": [
    "def get_cf_recommendations(user_id, top_n=5):\n",
    "    user_preds = pred_df.loc[user_id].sort_values(ascending=False)\n",
    "    rated = ratings_df[ratings_df.user_id == user_id]['manga_id'].tolist()\n",
    "    recommended = user_preds.drop(rated).head(top_n)\n",
    "    return df[df['id'].isin(recommended.index)][['id', 'title','genres','synopsis','score','image_url']]\n"
   ]
  },
  {
   "cell_type": "code",
   "execution_count": 80,
   "id": "ba701b8b",
   "metadata": {},
   "outputs": [
    {
     "name": "stdout",
     "output_type": "stream",
     "text": [
      "   id              title                              genres  \\\n",
      "2   3  20th Century Boys  Award_Winning Drama Mystery Sci-Fi   \n",
      "\n",
      "                                            synopsis  score  \\\n",
      "2  As the 20th century approaches its end, people...   8.93   \n",
      "\n",
      "                                           image_url  \n",
      "2  https://cdn.myanimelist.net/images/manga/5/260...  \n"
     ]
    }
   ],
   "source": [
    "print(get_cf_recommendations(1))\n"
   ]
  },
  {
   "cell_type": "code",
   "execution_count": 81,
   "id": "44366a79",
   "metadata": {},
   "outputs": [],
   "source": [
    "def hybrid_recommendations(user_id, top_n=5, alpha=0.7):\n",
    "    \"\"\"alpha: weight given to CF (0.0 = only CBF, 1.0 = only CF)\"\"\"\n",
    "    \n",
    "    try:\n",
    "        cf_recs = get_cf_recommendations(user_id, top_n=top_n)\n",
    "    except KeyError:\n",
    "        return get_cbf_recommendations(1, top_n)  # fallback to CBF\n",
    "    \n",
    "    cbf_recs = get_cbf_recommendations(1, top_n)  # base this on a manga user liked\n",
    "    #print(cf_recs,cbf_recs)\n",
    "    combined = pd.concat([cf_recs, cbf_recs]) \n",
    "    #print(combined)\n",
    "    combined = combined.drop_duplicates('id') \\\n",
    "                 .head(top_n)\n",
    "    return combined\n"
   ]
  },
  {
   "cell_type": "code",
   "execution_count": 82,
   "id": "9f5012f6",
   "metadata": {},
   "outputs": [
    {
     "data": {
      "text/html": [
       "<div>\n",
       "<style scoped>\n",
       "    .dataframe tbody tr th:only-of-type {\n",
       "        vertical-align: middle;\n",
       "    }\n",
       "\n",
       "    .dataframe tbody tr th {\n",
       "        vertical-align: top;\n",
       "    }\n",
       "\n",
       "    .dataframe thead th {\n",
       "        text-align: right;\n",
       "    }\n",
       "</style>\n",
       "<table border=\"1\" class=\"dataframe\">\n",
       "  <thead>\n",
       "    <tr style=\"text-align: right;\">\n",
       "      <th></th>\n",
       "      <th>id</th>\n",
       "      <th>title</th>\n",
       "      <th>genres</th>\n",
       "      <th>synopsis</th>\n",
       "      <th>score</th>\n",
       "      <th>image_url</th>\n",
       "    </tr>\n",
       "  </thead>\n",
       "  <tbody>\n",
       "    <tr>\n",
       "      <th>2</th>\n",
       "      <td>3</td>\n",
       "      <td>20th Century Boys</td>\n",
       "      <td>Award_Winning Drama Mystery Sci-Fi</td>\n",
       "      <td>As the 20th century approaches its end, people...</td>\n",
       "      <td>8.93</td>\n",
       "      <td>https://cdn.myanimelist.net/images/manga/5/260...</td>\n",
       "    </tr>\n",
       "    <tr>\n",
       "      <th>673</th>\n",
       "      <td>728</td>\n",
       "      <td>Tetsuwan Atom</td>\n",
       "      <td>Adventure Sci-Fi</td>\n",
       "      <td>In the distant year 2003, Japan is a technolog...</td>\n",
       "      <td>7.30</td>\n",
       "      <td>https://cdn.myanimelist.net/images/manga/2/186...</td>\n",
       "    </tr>\n",
       "    <tr>\n",
       "      <th>961</th>\n",
       "      <td>1047</td>\n",
       "      <td>Saint Seiya: The Lost Canvas - Meiou Shinwa</td>\n",
       "      <td>Action Adventure</td>\n",
       "      <td>This manga tells the story of the previous Hol...</td>\n",
       "      <td>8.27</td>\n",
       "      <td>https://cdn.myanimelist.net/images/manga/5/163...</td>\n",
       "    </tr>\n",
       "    <tr>\n",
       "      <th>524</th>\n",
       "      <td>549</td>\n",
       "      <td>The Queen's Knight</td>\n",
       "      <td>Adventure Fantasy Romance</td>\n",
       "      <td>When Yuna Lee's mother moves to Germany to pur...</td>\n",
       "      <td>7.38</td>\n",
       "      <td>https://cdn.myanimelist.net/images/manga/5/263...</td>\n",
       "    </tr>\n",
       "    <tr>\n",
       "      <th>865</th>\n",
       "      <td>941</td>\n",
       "      <td>Chaosic Rune</td>\n",
       "      <td>Action Drama Supernatural Ecchi</td>\n",
       "      <td>After being the only survivor in a plane crash...</td>\n",
       "      <td>6.71</td>\n",
       "      <td>https://cdn.myanimelist.net/images/manga/3/183...</td>\n",
       "    </tr>\n",
       "  </tbody>\n",
       "</table>\n",
       "</div>"
      ],
      "text/plain": [
       "       id                                        title  \\\n",
       "2       3                            20th Century Boys   \n",
       "673   728                                Tetsuwan Atom   \n",
       "961  1047  Saint Seiya: The Lost Canvas - Meiou Shinwa   \n",
       "524   549                           The Queen's Knight   \n",
       "865   941                                 Chaosic Rune   \n",
       "\n",
       "                                 genres  \\\n",
       "2    Award_Winning Drama Mystery Sci-Fi   \n",
       "673                    Adventure Sci-Fi   \n",
       "961                    Action Adventure   \n",
       "524           Adventure Fantasy Romance   \n",
       "865     Action Drama Supernatural Ecchi   \n",
       "\n",
       "                                              synopsis  score  \\\n",
       "2    As the 20th century approaches its end, people...   8.93   \n",
       "673  In the distant year 2003, Japan is a technolog...   7.30   \n",
       "961  This manga tells the story of the previous Hol...   8.27   \n",
       "524  When Yuna Lee's mother moves to Germany to pur...   7.38   \n",
       "865  After being the only survivor in a plane crash...   6.71   \n",
       "\n",
       "                                             image_url  \n",
       "2    https://cdn.myanimelist.net/images/manga/5/260...  \n",
       "673  https://cdn.myanimelist.net/images/manga/2/186...  \n",
       "961  https://cdn.myanimelist.net/images/manga/5/163...  \n",
       "524  https://cdn.myanimelist.net/images/manga/5/263...  \n",
       "865  https://cdn.myanimelist.net/images/manga/3/183...  "
      ]
     },
     "execution_count": 82,
     "metadata": {},
     "output_type": "execute_result"
    }
   ],
   "source": [
    "hybrid_recommendations(1)"
   ]
  },
  {
   "cell_type": "code",
   "execution_count": 83,
   "id": "f31bb8a9",
   "metadata": {},
   "outputs": [
    {
     "data": {
      "text/plain": [
       "['../models/cf_Vt.pkl']"
      ]
     },
     "execution_count": 83,
     "metadata": {},
     "output_type": "execute_result"
    }
   ],
   "source": [
    "import joblib\n",
    "\n",
    "# Save CBF similarity matrix\n",
    "joblib.dump(cosine_sim, \"../models/cbf_cosine_matrix.pkl\")\n",
    "joblib.dump(tfidf, \"../models/tfidf_vectorizer.pkl\")\n",
    "\n",
    "# Save CF SVD components\n",
    "joblib.dump(U, \"../models/cf_U.pkl\")\n",
    "joblib.dump(sigma, \"../models/cf_sigma.pkl\")\n",
    "joblib.dump(Vt, \"../models/cf_Vt.pkl\")\n"
   ]
  },
  {
   "cell_type": "code",
   "execution_count": null,
   "id": "f0687e69",
   "metadata": {},
   "outputs": [],
   "source": []
  },
  {
   "cell_type": "code",
   "execution_count": null,
   "id": "7e5ad9f4",
   "metadata": {},
   "outputs": [],
   "source": []
  },
  {
   "cell_type": "code",
   "execution_count": null,
   "id": "ec262315",
   "metadata": {},
   "outputs": [],
   "source": []
  },
  {
   "cell_type": "code",
   "execution_count": null,
   "id": "01181259",
   "metadata": {},
   "outputs": [],
   "source": []
  },
  {
   "cell_type": "code",
   "execution_count": null,
   "id": "5e0f332f",
   "metadata": {},
   "outputs": [],
   "source": []
  },
  {
   "cell_type": "code",
   "execution_count": null,
   "id": "d107c258",
   "metadata": {},
   "outputs": [],
   "source": []
  }
 ],
 "metadata": {
  "kernelspec": {
   "display_name": "Manga",
   "language": "python",
   "name": "python3"
  },
  "language_info": {
   "codemirror_mode": {
    "name": "ipython",
    "version": 3
   },
   "file_extension": ".py",
   "mimetype": "text/x-python",
   "name": "python",
   "nbconvert_exporter": "python",
   "pygments_lexer": "ipython3",
   "version": "3.12.3"
  }
 },
 "nbformat": 4,
 "nbformat_minor": 5
}
