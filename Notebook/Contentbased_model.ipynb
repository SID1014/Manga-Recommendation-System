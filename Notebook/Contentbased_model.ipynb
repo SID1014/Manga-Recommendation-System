{
 "cells": [
  {
   "cell_type": "code",
   "execution_count": 19,
   "id": "7826c998",
   "metadata": {},
   "outputs": [],
   "source": [
    "import pandas as pd\n",
    "from sklearn.feature_extraction.text import TfidfVectorizer\n",
    "from sklearn.metrics.pairwise import cosine_similarity\n",
    "import pickle\n",
    "import numpy as np"
   ]
  },
  {
   "cell_type": "code",
   "execution_count": 20,
   "id": "cc040e07",
   "metadata": {},
   "outputs": [
    {
     "name": "stderr",
     "output_type": "stream",
     "text": [
      "<>:1: SyntaxWarning: invalid escape sequence '\\D'\n",
      "<>:1: SyntaxWarning: invalid escape sequence '\\D'\n",
      "C:\\Users\\Siddh\\AppData\\Local\\Temp\\ipykernel_8240\\251128808.py:1: SyntaxWarning: invalid escape sequence '\\D'\n",
      "  df = pd.read_csv('..\\Data\\Processed\\processed_manga.csv')\n"
     ]
    }
   ],
   "source": [
    "df = pd.read_csv('..\\Data\\Processed\\processed_manga.csv')"
   ]
  },
  {
   "cell_type": "code",
   "execution_count": 21,
   "id": "e58bc7bf",
   "metadata": {},
   "outputs": [
    {
     "name": "stdout",
     "output_type": "stream",
     "text": [
      "<class 'pandas.core.frame.DataFrame'>\n",
      "RangeIndex: 968 entries, 0 to 967\n",
      "Data columns (total 6 columns):\n",
      " #   Column     Non-Null Count  Dtype  \n",
      "---  ------     --------------  -----  \n",
      " 0   id         968 non-null    int64  \n",
      " 1   title      968 non-null    object \n",
      " 2   synopsis   968 non-null    object \n",
      " 3   genres     968 non-null    object \n",
      " 4   score      968 non-null    float64\n",
      " 5   image_url  968 non-null    object \n",
      "dtypes: float64(1), int64(1), object(4)\n",
      "memory usage: 45.5+ KB\n"
     ]
    }
   ],
   "source": [
    "df.info()"
   ]
  },
  {
   "cell_type": "code",
   "execution_count": 22,
   "id": "3899f211",
   "metadata": {},
   "outputs": [],
   "source": [
    "df[\"content\"] = (df[\"synopsis\"]+ \" \")*3 + \" \" + (df[\"genres\"]+ \" \")*2"
   ]
  },
  {
   "cell_type": "code",
   "execution_count": 23,
   "id": "8bc5d884",
   "metadata": {},
   "outputs": [
    {
     "name": "stdout",
     "output_type": "stream",
     "text": [
      "(968, 11929)\n"
     ]
    }
   ],
   "source": [
    "tfidf = TfidfVectorizer(stop_words='english')\n",
    "tfidf_matrix = tfidf.fit_transform(df['content'])\n",
    "print(tfidf_matrix.shape)\n"
   ]
  },
  {
   "cell_type": "code",
   "execution_count": 24,
   "id": "8f6b633f",
   "metadata": {},
   "outputs": [
    {
     "name": "stdout",
     "output_type": "stream",
     "text": [
      "Cosine similarity matrix shape: (968, 968)\n"
     ]
    }
   ],
   "source": [
    "cosine_sim = cosine_similarity(tfidf_matrix, tfidf_matrix)\n",
    "print(\"Cosine similarity matrix shape:\", cosine_sim.shape)\n"
   ]
  },
  {
   "cell_type": "code",
   "execution_count": 25,
   "id": "e6994eea",
   "metadata": {},
   "outputs": [],
   "source": [
    "def get_recommendations(title, top_n=5):\n",
    "    # Ensure title exists\n",
    "    if title not in df['title'].values:\n",
    "        raise ValueError(f\"'{title}' not found in dataset.\")\n",
    "    \n",
    "    # Get index of given title\n",
    "    idx = df[df['title'] == title].index[0]\n",
    "    \n",
    "    # Pair index with similarity scores\n",
    "    sim_scores = list(enumerate(cosine_sim[idx]))\n",
    "    \n",
    "    # Sort by similarity score (descending), skip the first one (itself)\n",
    "    sim_scores = sorted(sim_scores, key=lambda x: x[1], reverse=True)[1:top_n+1]\n",
    "    \n",
    "    # Get the indices of recommended manga\n",
    "    manga_indices = [i[0] for i in sim_scores]\n",
    "    \n",
    "    # Return a DataFrame of recommendations\n",
    "    return df.iloc[manga_indices][['title', 'genres','synopsis', 'score','image_url']] if 'score' in df.columns else df.iloc[manga_indices][['title', 'genres']]\n"
   ]
  },
  {
   "cell_type": "code",
   "execution_count": 26,
   "id": "809c7f82",
   "metadata": {},
   "outputs": [
    {
     "data": {
      "text/html": [
       "<div>\n",
       "<style scoped>\n",
       "    .dataframe tbody tr th:only-of-type {\n",
       "        vertical-align: middle;\n",
       "    }\n",
       "\n",
       "    .dataframe tbody tr th {\n",
       "        vertical-align: top;\n",
       "    }\n",
       "\n",
       "    .dataframe thead th {\n",
       "        text-align: right;\n",
       "    }\n",
       "</style>\n",
       "<table border=\"1\" class=\"dataframe\">\n",
       "  <thead>\n",
       "    <tr style=\"text-align: right;\">\n",
       "      <th></th>\n",
       "      <th>title</th>\n",
       "      <th>genres</th>\n",
       "      <th>synopsis</th>\n",
       "      <th>score</th>\n",
       "      <th>image_url</th>\n",
       "    </tr>\n",
       "  </thead>\n",
       "  <tbody>\n",
       "    <tr>\n",
       "      <th>815</th>\n",
       "      <td>Tsuki no Shippo</td>\n",
       "      <td>Adventure Comedy Fantasy Romance</td>\n",
       "      <td>Usagi is the granddaughter of the leader of a ...</td>\n",
       "      <td>7.95</td>\n",
       "      <td>https://cdn.myanimelist.net/images/manga/3/160...</td>\n",
       "    </tr>\n",
       "    <tr>\n",
       "      <th>895</th>\n",
       "      <td>Shinobu Kokoro wa</td>\n",
       "      <td>Boys Love Erotica</td>\n",
       "      <td>The Ninja: A stealth fighter expertly trained ...</td>\n",
       "      <td>6.73</td>\n",
       "      <td>https://cdn.myanimelist.net/images/manga/2/357...</td>\n",
       "    </tr>\n",
       "    <tr>\n",
       "      <th>63</th>\n",
       "      <td>Ninin ga Shinobuden</td>\n",
       "      <td>Comedy</td>\n",
       "      <td>Shinobu is the only girl that goes to the secr...</td>\n",
       "      <td>6.82</td>\n",
       "      <td>https://cdn.myanimelist.net/images/manga/3/143...</td>\n",
       "    </tr>\n",
       "    <tr>\n",
       "      <th>498</th>\n",
       "      <td>Fuun Sanshimai Lin³</td>\n",
       "      <td>Adventure Fantasy</td>\n",
       "      <td>Separated at birth, three Shaolin Princesses t...</td>\n",
       "      <td>6.43</td>\n",
       "      <td>https://cdn.myanimelist.net/images/manga/1/180...</td>\n",
       "    </tr>\n",
       "    <tr>\n",
       "      <th>395</th>\n",
       "      <td>Kagetora</td>\n",
       "      <td>Action Comedy Romance</td>\n",
       "      <td>The young ninja Kagetora has been given a grea...</td>\n",
       "      <td>7.47</td>\n",
       "      <td>https://cdn.myanimelist.net/images/manga/5/199...</td>\n",
       "    </tr>\n",
       "  </tbody>\n",
       "</table>\n",
       "</div>"
      ],
      "text/plain": [
       "                   title                            genres  \\\n",
       "815      Tsuki no Shippo  Adventure Comedy Fantasy Romance   \n",
       "895    Shinobu Kokoro wa                 Boys Love Erotica   \n",
       "63   Ninin ga Shinobuden                            Comedy   \n",
       "498  Fuun Sanshimai Lin³                 Adventure Fantasy   \n",
       "395             Kagetora             Action Comedy Romance   \n",
       "\n",
       "                                              synopsis  score  \\\n",
       "815  Usagi is the granddaughter of the leader of a ...   7.95   \n",
       "895  The Ninja: A stealth fighter expertly trained ...   6.73   \n",
       "63   Shinobu is the only girl that goes to the secr...   6.82   \n",
       "498  Separated at birth, three Shaolin Princesses t...   6.43   \n",
       "395  The young ninja Kagetora has been given a grea...   7.47   \n",
       "\n",
       "                                             image_url  \n",
       "815  https://cdn.myanimelist.net/images/manga/3/160...  \n",
       "895  https://cdn.myanimelist.net/images/manga/2/357...  \n",
       "63   https://cdn.myanimelist.net/images/manga/3/143...  \n",
       "498  https://cdn.myanimelist.net/images/manga/1/180...  \n",
       "395  https://cdn.myanimelist.net/images/manga/5/199...  "
      ]
     },
     "execution_count": 26,
     "metadata": {},
     "output_type": "execute_result"
    }
   ],
   "source": [
    "get_recommendations('Naruto')"
   ]
  },
  {
   "cell_type": "code",
   "execution_count": 27,
   "id": "b4161360",
   "metadata": {},
   "outputs": [
    {
     "ename": "FileNotFoundError",
     "evalue": "[Errno 2] No such file or directory: '../model/tfidf_vectorizer.pkl'",
     "output_type": "error",
     "traceback": [
      "\u001b[31m---------------------------------------------------------------------------\u001b[39m",
      "\u001b[31mFileNotFoundError\u001b[39m                         Traceback (most recent call last)",
      "\u001b[36mCell\u001b[39m\u001b[36m \u001b[39m\u001b[32mIn[27]\u001b[39m\u001b[32m, line 2\u001b[39m\n\u001b[32m      1\u001b[39m \u001b[38;5;66;03m# Save\u001b[39;00m\n\u001b[32m----> \u001b[39m\u001b[32m2\u001b[39m \u001b[38;5;28;01mwith\u001b[39;00m \u001b[38;5;28;43mopen\u001b[39;49m\u001b[43m(\u001b[49m\u001b[33;43m\"\u001b[39;49m\u001b[33;43m../model/tfidf_vectorizer.pkl\u001b[39;49m\u001b[33;43m\"\u001b[39;49m\u001b[43m,\u001b[49m\u001b[43m \u001b[49m\u001b[33;43m\"\u001b[39;49m\u001b[33;43mwb\u001b[39;49m\u001b[33;43m\"\u001b[39;49m\u001b[43m)\u001b[49m \u001b[38;5;28;01mas\u001b[39;00m f:\n\u001b[32m      3\u001b[39m     pickle.dump(tfidf, f)\n\u001b[32m      5\u001b[39m \u001b[38;5;28;01mwith\u001b[39;00m \u001b[38;5;28mopen\u001b[39m(\u001b[33m\"\u001b[39m\u001b[33m../model/cosine_similarity.pkl\u001b[39m\u001b[33m\"\u001b[39m, \u001b[33m\"\u001b[39m\u001b[33mwb\u001b[39m\u001b[33m\"\u001b[39m) \u001b[38;5;28;01mas\u001b[39;00m f:\n",
      "\u001b[36mFile \u001b[39m\u001b[32mc:\\Users\\Siddh\\anaconda3\\envs\\Manga\\Lib\\site-packages\\IPython\\core\\interactiveshell.py:343\u001b[39m, in \u001b[36m_modified_open\u001b[39m\u001b[34m(file, *args, **kwargs)\u001b[39m\n\u001b[32m    336\u001b[39m \u001b[38;5;28;01mif\u001b[39;00m file \u001b[38;5;129;01min\u001b[39;00m {\u001b[32m0\u001b[39m, \u001b[32m1\u001b[39m, \u001b[32m2\u001b[39m}:\n\u001b[32m    337\u001b[39m     \u001b[38;5;28;01mraise\u001b[39;00m \u001b[38;5;167;01mValueError\u001b[39;00m(\n\u001b[32m    338\u001b[39m         \u001b[33mf\u001b[39m\u001b[33m\"\u001b[39m\u001b[33mIPython won\u001b[39m\u001b[33m'\u001b[39m\u001b[33mt let you open fd=\u001b[39m\u001b[38;5;132;01m{\u001b[39;00mfile\u001b[38;5;132;01m}\u001b[39;00m\u001b[33m by default \u001b[39m\u001b[33m\"\u001b[39m\n\u001b[32m    339\u001b[39m         \u001b[33m\"\u001b[39m\u001b[33mas it is likely to crash IPython. If you know what you are doing, \u001b[39m\u001b[33m\"\u001b[39m\n\u001b[32m    340\u001b[39m         \u001b[33m\"\u001b[39m\u001b[33myou can use builtins\u001b[39m\u001b[33m'\u001b[39m\u001b[33m open.\u001b[39m\u001b[33m\"\u001b[39m\n\u001b[32m    341\u001b[39m     )\n\u001b[32m--> \u001b[39m\u001b[32m343\u001b[39m \u001b[38;5;28;01mreturn\u001b[39;00m \u001b[43mio_open\u001b[49m\u001b[43m(\u001b[49m\u001b[43mfile\u001b[49m\u001b[43m,\u001b[49m\u001b[43m \u001b[49m\u001b[43m*\u001b[49m\u001b[43margs\u001b[49m\u001b[43m,\u001b[49m\u001b[43m \u001b[49m\u001b[43m*\u001b[49m\u001b[43m*\u001b[49m\u001b[43mkwargs\u001b[49m\u001b[43m)\u001b[49m\n",
      "\u001b[31mFileNotFoundError\u001b[39m: [Errno 2] No such file or directory: '../model/tfidf_vectorizer.pkl'"
     ]
    }
   ],
   "source": [
    "\n",
    "\n",
    "# Save\n",
    "with open(\"../model/tfidf_vectorizer.pkl\", \"wb\") as f:\n",
    "    pickle.dump(tfidf, f)\n",
    "\n",
    "with open(\"../model/cosine_similarity.pkl\", \"wb\") as f:\n",
    "    pickle.dump(cosine_sim, f)\n",
    "\n",
    "df.to_csv(\"../model/final_manga.csv\", index=False)\n"
   ]
  },
  {
   "cell_type": "code",
   "execution_count": null,
   "id": "049a2005",
   "metadata": {},
   "outputs": [],
   "source": [
    "ratings_df = pd.DataFrame({\n",
    "    'user_id': [1, 1, 2, 2, 3],\n",
    "    'manga_id': [1, 2, 2, 3, 1],\n",
    "    'rating': [5, 4, 3, 4, 5]\n",
    "})\n",
    "\n"
   ]
  },
  {
   "cell_type": "code",
   "execution_count": null,
   "id": "b7d4e1b2",
   "metadata": {},
   "outputs": [],
   "source": [
    "user_item_matrix = ratings_df.pivot_table(\n",
    "    index='user_id',\n",
    "    columns='manga_id',\n",
    "    values='rating'\n",
    ").fillna(0)\n"
   ]
  },
  {
   "cell_type": "code",
   "execution_count": null,
   "id": "c3a8b98e",
   "metadata": {},
   "outputs": [
    {
     "name": "stdout",
     "output_type": "stream",
     "text": [
      "manga_id    1    2    3\n",
      "user_id                \n",
      "1         5.0  4.0  0.0\n",
      "2         0.0  3.0  4.0\n",
      "3         5.0  0.0  0.0\n"
     ]
    }
   ],
   "source": [
    "print(user_item_matrix)"
   ]
  },
  {
   "cell_type": "code",
   "execution_count": null,
   "id": "03d6ae08",
   "metadata": {},
   "outputs": [],
   "source": [
    "import numpy as np\n",
    "from scipy.sparse.linalg import svds\n",
    "\n",
    "matrix = user_item_matrix.values\n",
    "\n",
    "# Compute SVD\n",
    "U, sigma, Vt = svds(matrix, k=2)\n",
    "sigma = np.diag(sigma)\n",
    "\n",
    "# Predicted ratings\n",
    "predicted_ratings = np.dot(np.dot(U, sigma), Vt)\n",
    "pred_df = pd.DataFrame(predicted_ratings, columns=user_item_matrix.columns, index=user_item_matrix.index)\n"
   ]
  },
  {
   "cell_type": "code",
   "execution_count": null,
   "id": "b6d3f076",
   "metadata": {},
   "outputs": [],
   "source": [
    "def get_cf_recommendations(user_id, top_n=5):\n",
    "    user_preds = pred_df.loc[user_id].sort_values(ascending=False)\n",
    "    rated = ratings_df[ratings_df.user_id == user_id]['manga_id'].tolist()\n",
    "    recommended = user_preds.drop(rated).head(top_n)\n",
    "    return df[df['id'].isin(recommended.index)][['id', 'title']]\n"
   ]
  },
  {
   "cell_type": "code",
   "execution_count": null,
   "id": "ba701b8b",
   "metadata": {},
   "outputs": [
    {
     "name": "stdout",
     "output_type": "stream",
     "text": [
      "   id              title\n",
      "2   3  20th Century Boys\n"
     ]
    }
   ],
   "source": [
    "print(get_cf_recommendations(1))\n"
   ]
  },
  {
   "cell_type": "code",
   "execution_count": null,
   "id": "f31bb8a9",
   "metadata": {},
   "outputs": [
    {
     "data": {
      "text/plain": [
       "['../models/cf_Vt.pkl']"
      ]
     },
     "execution_count": 18,
     "metadata": {},
     "output_type": "execute_result"
    }
   ],
   "source": [
    "import joblib\n",
    "\n",
    "# Save CBF similarity matrix\n",
    "joblib.dump(cosine_sim, \"../models/cbf_cosine_matrix.pkl\")\n",
    "joblib.dump(tfidf, \"../models/tfidf_vectorizer.pkl\")\n",
    "\n",
    "# Save CF SVD components\n",
    "joblib.dump(U, \"../models/cf_U.pkl\")\n",
    "joblib.dump(sigma, \"../models/cf_sigma.pkl\")\n",
    "joblib.dump(Vt, \"../models/cf_Vt.pkl\")\n"
   ]
  },
  {
   "cell_type": "code",
   "execution_count": null,
   "id": "f0687e69",
   "metadata": {},
   "outputs": [],
   "source": []
  },
  {
   "cell_type": "code",
   "execution_count": null,
   "id": "7e5ad9f4",
   "metadata": {},
   "outputs": [],
   "source": []
  },
  {
   "cell_type": "code",
   "execution_count": null,
   "id": "ec262315",
   "metadata": {},
   "outputs": [],
   "source": []
  },
  {
   "cell_type": "code",
   "execution_count": null,
   "id": "01181259",
   "metadata": {},
   "outputs": [],
   "source": []
  },
  {
   "cell_type": "code",
   "execution_count": null,
   "id": "5e0f332f",
   "metadata": {},
   "outputs": [],
   "source": []
  },
  {
   "cell_type": "code",
   "execution_count": null,
   "id": "d107c258",
   "metadata": {},
   "outputs": [],
   "source": []
  }
 ],
 "metadata": {
  "kernelspec": {
   "display_name": "Manga",
   "language": "python",
   "name": "python3"
  },
  "language_info": {
   "codemirror_mode": {
    "name": "ipython",
    "version": 3
   },
   "file_extension": ".py",
   "mimetype": "text/x-python",
   "name": "python",
   "nbconvert_exporter": "python",
   "pygments_lexer": "ipython3",
   "version": "3.12.3"
  }
 },
 "nbformat": 4,
 "nbformat_minor": 5
}
