{
 "cells": [
  {
   "cell_type": "code",
   "execution_count": 4,
   "id": "0e180879",
   "metadata": {},
   "outputs": [
    {
     "data": {
      "text/html": [
       "<div>\n",
       "<style scoped>\n",
       "    .dataframe tbody tr th:only-of-type {\n",
       "        vertical-align: middle;\n",
       "    }\n",
       "\n",
       "    .dataframe tbody tr th {\n",
       "        vertical-align: top;\n",
       "    }\n",
       "\n",
       "    .dataframe thead th {\n",
       "        text-align: right;\n",
       "    }\n",
       "</style>\n",
       "<table border=\"1\" class=\"dataframe\">\n",
       "  <thead>\n",
       "    <tr style=\"text-align: right;\">\n",
       "      <th></th>\n",
       "      <th>user_id</th>\n",
       "      <th>manga_id</th>\n",
       "      <th>rating</th>\n",
       "    </tr>\n",
       "  </thead>\n",
       "  <tbody>\n",
       "    <tr>\n",
       "      <th>0</th>\n",
       "      <td>18</td>\n",
       "      <td>825</td>\n",
       "      <td>5</td>\n",
       "    </tr>\n",
       "    <tr>\n",
       "      <th>1</th>\n",
       "      <td>37</td>\n",
       "      <td>665</td>\n",
       "      <td>4</td>\n",
       "    </tr>\n",
       "    <tr>\n",
       "      <th>2</th>\n",
       "      <td>38</td>\n",
       "      <td>894</td>\n",
       "      <td>4</td>\n",
       "    </tr>\n",
       "    <tr>\n",
       "      <th>3</th>\n",
       "      <td>30</td>\n",
       "      <td>247</td>\n",
       "      <td>5</td>\n",
       "    </tr>\n",
       "    <tr>\n",
       "      <th>4</th>\n",
       "      <td>9</td>\n",
       "      <td>493</td>\n",
       "      <td>1</td>\n",
       "    </tr>\n",
       "  </tbody>\n",
       "</table>\n",
       "</div>"
      ],
      "text/plain": [
       "   user_id  manga_id  rating\n",
       "0       18       825       5\n",
       "1       37       665       4\n",
       "2       38       894       4\n",
       "3       30       247       5\n",
       "4        9       493       1"
      ]
     },
     "execution_count": 4,
     "metadata": {},
     "output_type": "execute_result"
    }
   ],
   "source": [
    "import pandas as pd\n",
    "import numpy as np\n",
    "\n",
    "# Generate synthetic ratings for 100 users and 300 manga\n",
    "df_combined = pd.read_csv('../model/final_manga.csv')\n",
    "num_users = 100\n",
    "num_manga = len(df_combined)\n",
    "\n",
    "ratings = pd.DataFrame({\n",
    "    'user_id': np.random.randint(1, num_users+1, size=1000),\n",
    "    'manga_id': np.random.randint(1, num_manga+1, size=1000),\n",
    "    'rating': np.random.randint(1, 6, size=1000)  # ratings between 1 and 5\n",
    "})\n",
    "\n",
    "ratings.head()\n"
   ]
  },
  {
   "cell_type": "code",
   "execution_count": 5,
   "id": "d4ccc560",
   "metadata": {},
   "outputs": [
    {
     "name": "stdout",
     "output_type": "stream",
     "text": [
      "<class 'pandas.core.frame.DataFrame'>\n",
      "RangeIndex: 1000 entries, 0 to 999\n",
      "Data columns (total 3 columns):\n",
      " #   Column    Non-Null Count  Dtype\n",
      "---  ------    --------------  -----\n",
      " 0   user_id   1000 non-null   int32\n",
      " 1   manga_id  1000 non-null   int32\n",
      " 2   rating    1000 non-null   int32\n",
      "dtypes: int32(3)\n",
      "memory usage: 11.8 KB\n"
     ]
    }
   ],
   "source": [
    "ratings.info()"
   ]
  },
  {
   "cell_type": "code",
   "execution_count": 6,
   "id": "6416ae7e",
   "metadata": {},
   "outputs": [
    {
     "name": "stdout",
     "output_type": "stream",
     "text": [
      "RMSE: 1.4387\n",
      "RMSE: 1.4387349763560835\n"
     ]
    }
   ],
   "source": [
    "from surprise import Dataset, Reader, SVD\n",
    "from surprise.model_selection import train_test_split\n",
    "from surprise import accuracy\n",
    "\n",
    "# Define the reader\n",
    "reader = Reader(rating_scale=(1, 5))\n",
    "\n",
    "# Load dataframe\n",
    "data = Dataset.load_from_df(ratings[['user_id', 'manga_id', 'rating']], reader)\n",
    "\n",
    "# Split train/test\n",
    "trainset, testset = train_test_split(data, test_size=0.2)\n",
    "\n",
    "# Use SVD (Matrix Factorization)\n",
    "cf_model = SVD()\n",
    "cf_model.fit(trainset)\n",
    "\n",
    "# Evaluate\n",
    "predictions = cf_model.test(testset)\n",
    "print(\"RMSE:\", accuracy.rmse(predictions))\n"
   ]
  },
  {
   "cell_type": "code",
   "execution_count": 7,
   "id": "a055b6bd",
   "metadata": {},
   "outputs": [],
   "source": [
    "def get_cf_recommendations(user_id, top_n=5):\n",
    "    \"\"\"Return top N manga recommendations for a given user using CF.\"\"\"\n",
    "    # Predict ratings for all manga\n",
    "    all_manga_ids = df_combined.index + 1  # assuming manga_id matches index\n",
    "    predictions = [cf_model.predict(user_id, manga_id) for manga_id in all_manga_ids]\n",
    "\n",
    "    # Sort by estimated rating\n",
    "    predictions.sort(key=lambda x: x.est, reverse=True)\n",
    "    top_preds = predictions[:top_n]\n",
    "\n",
    "    # Return manga details\n",
    "    manga_indices = [int(pred.iid)-1 for pred in top_preds]\n",
    "    return df_combined.iloc[manga_indices][['title', 'genres', 'image_url']]\n"
   ]
  },
  {
   "cell_type": "code",
   "execution_count": 11,
   "id": "53aa66a0",
   "metadata": {},
   "outputs": [],
   "source": [
    "from sklearn.metrics.pairwise import cosine_similarity\n",
    "\n",
    "# Already computed tfidf_matrix & cosine_sim earlier\n",
    "# cosine_sim[i][j] = similarity between manga i and manga j\n",
    "\n",
    "def hybrid_recommendations(user_id, input_title, alpha=0.5, top_n=5):\n",
    "    \"\"\"\n",
    "    Combine content-based and collaborative filtering recommendations.\n",
    "    alpha: weight for content-based (0.5 = equal balance)\n",
    "    \"\"\"\n",
    "    # ---- Content-Based Scores ----\n",
    "    if input_title not in df_combined['title'].values:\n",
    "        raise ValueError(f\"'{input_title}' not found in dataset.\")\n",
    "    \n",
    "    idx = df_combined[df_combined['title'] == input_title].index[0]\n",
    "    cb_scores = cosine_sim[idx]  # vector of similarity to all manga\n",
    "\n",
    "    # ---- Collaborative Filtering Scores ----\n",
    "    all_manga_ids = df_combined.index + 1\n",
    "    cf_scores = np.array([cf_model.predict(user_id, manga_id).est for manga_id in all_manga_ids])\n",
    "\n",
    "    # ---- Combine ----\n",
    "    final_scores = alpha * cb_scores + (1 - alpha) * cf_scores\n",
    "\n",
    "    # Sort and get top N\n",
    "    top_indices = final_scores.argsort()[::-1][1:top_n+1]\n",
    "\n",
    "    return df_combined.iloc[top_indices][['title', 'genres', 'image_url']]\n"
   ]
  },
  {
   "cell_type": "code",
   "execution_count": 12,
   "id": "d1280380",
   "metadata": {},
   "outputs": [
    {
     "ename": "NameError",
     "evalue": "name 'cosine_sim' is not defined",
     "output_type": "error",
     "traceback": [
      "\u001b[31m---------------------------------------------------------------------------\u001b[39m",
      "\u001b[31mNameError\u001b[39m                                 Traceback (most recent call last)",
      "\u001b[36mCell\u001b[39m\u001b[36m \u001b[39m\u001b[32mIn[12]\u001b[39m\u001b[32m, line 1\u001b[39m\n\u001b[32m----> \u001b[39m\u001b[32m1\u001b[39m hybrid_recs = \u001b[43mhybrid_recommendations\u001b[49m\u001b[43m(\u001b[49m\u001b[43muser_id\u001b[49m\u001b[43m=\u001b[49m\u001b[32;43m10\u001b[39;49m\u001b[43m,\u001b[49m\u001b[43m \u001b[49m\u001b[43minput_title\u001b[49m\u001b[43m=\u001b[49m\u001b[33;43m\"\u001b[39;49m\u001b[33;43mNaruto\u001b[39;49m\u001b[33;43m\"\u001b[39;49m\u001b[43m,\u001b[49m\u001b[43m \u001b[49m\u001b[43malpha\u001b[49m\u001b[43m=\u001b[49m\u001b[32;43m0.6\u001b[39;49m\u001b[43m,\u001b[49m\u001b[43m \u001b[49m\u001b[43mtop_n\u001b[49m\u001b[43m=\u001b[49m\u001b[32;43m5\u001b[39;49m\u001b[43m)\u001b[49m\n\u001b[32m      2\u001b[39m \u001b[38;5;28mprint\u001b[39m(hybrid_recs)\n",
      "\u001b[36mCell\u001b[39m\u001b[36m \u001b[39m\u001b[32mIn[11]\u001b[39m\u001b[32m, line 16\u001b[39m, in \u001b[36mhybrid_recommendations\u001b[39m\u001b[34m(user_id, input_title, alpha, top_n)\u001b[39m\n\u001b[32m     13\u001b[39m     \u001b[38;5;28;01mraise\u001b[39;00m \u001b[38;5;167;01mValueError\u001b[39;00m(\u001b[33mf\u001b[39m\u001b[33m\"\u001b[39m\u001b[33m'\u001b[39m\u001b[38;5;132;01m{\u001b[39;00minput_title\u001b[38;5;132;01m}\u001b[39;00m\u001b[33m'\u001b[39m\u001b[33m not found in dataset.\u001b[39m\u001b[33m\"\u001b[39m)\n\u001b[32m     15\u001b[39m idx = df_combined[df_combined[\u001b[33m'\u001b[39m\u001b[33mtitle\u001b[39m\u001b[33m'\u001b[39m] == input_title].index[\u001b[32m0\u001b[39m]\n\u001b[32m---> \u001b[39m\u001b[32m16\u001b[39m cb_scores = \u001b[43mcosine_sim\u001b[49m[idx]  \u001b[38;5;66;03m# vector of similarity to all manga\u001b[39;00m\n\u001b[32m     18\u001b[39m \u001b[38;5;66;03m# ---- Collaborative Filtering Scores ----\u001b[39;00m\n\u001b[32m     19\u001b[39m all_manga_ids = df_combined.index + \u001b[32m1\u001b[39m\n",
      "\u001b[31mNameError\u001b[39m: name 'cosine_sim' is not defined"
     ]
    }
   ],
   "source": [
    "hybrid_recs = hybrid_recommendations(user_id=10, input_title=\"Naruto\", alpha=0.6, top_n=5)\n",
    "print(hybrid_recs)\n",
    "\n"
   ]
  },
  {
   "cell_type": "code",
   "execution_count": null,
   "id": "f8ab62a9",
   "metadata": {},
   "outputs": [],
   "source": []
  }
 ],
 "metadata": {
  "kernelspec": {
   "display_name": "Manga",
   "language": "python",
   "name": "python3"
  },
  "language_info": {
   "codemirror_mode": {
    "name": "ipython",
    "version": 3
   },
   "file_extension": ".py",
   "mimetype": "text/x-python",
   "name": "python",
   "nbconvert_exporter": "python",
   "pygments_lexer": "ipython3",
   "version": "3.12.3"
  }
 },
 "nbformat": 4,
 "nbformat_minor": 5
}
